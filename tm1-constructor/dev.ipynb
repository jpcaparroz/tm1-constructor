{
 "cells": [
  {
   "cell_type": "markdown",
   "metadata": {},
   "source": [
    "# 1- Imports"
   ]
  },
  {
   "cell_type": "code",
   "execution_count": 2,
   "metadata": {},
   "outputs": [],
   "source": [
    "import json\n",
    "\n",
    "from TM1py import TM1Service, Cube, Dimension, Hierarchy, Subset, Element, ElementAttribute\n",
    "from utils import getConnection,  set_current_directory"
   ]
  },
  {
   "cell_type": "markdown",
   "metadata": {},
   "source": [
    "# 2- Tests"
   ]
  },
  {
   "cell_type": "code",
   "execution_count": null,
   "metadata": {},
   "outputs": [],
   "source": [
    "\n",
    "hierarchy_object = Hierarchy(\n",
    "    name='01_Metric',\n",
    "    dimension_name='01_Metric',\n",
    "    elements=[\n",
    "        Element(\n",
    "            name='value',\n",
    "            element_type='NUMERIC'\n",
    "        ),\n",
    "        Element(\n",
    "            name='total',\n",
    "            element_type='CONSOLIDATED'\n",
    "        )\n",
    "    ],\n",
    "    edges={\n",
    "        ('total', 'value'): 1\n",
    "    },\n",
    "    element_attributes=[\n",
    "        ElementAttribute(\n",
    "            name='Caption',\n",
    "            attribute_type='ALIAS'\n",
    "        )\n",
    "        \n",
    "    ]\n",
    ")\n",
    "\n",
    "dimension_object = Dimension(\n",
    "    name='01_Metric',\n",
    "    hierarchies=[\n",
    "        hierarchy_object\n",
    "    ]\n",
    ")\n",
    "hierarchy_object.body\n",
    "\n"
   ]
  },
  {
   "cell_type": "code",
   "execution_count": 3,
   "metadata": {},
   "outputs": [],
   "source": [
    "PATH = set_current_directory() + r'\\..\\tm1_objects\\dimension\\json\\Default.json'\n",
    "\n",
    "def get_json(parameter: str = None):\n",
    "    with open(PATH) as op:\n",
    "        object = json.load(op)\n",
    "    \n",
    "    return object.get(parameter) if parameter else object"
   ]
  },
  {
   "cell_type": "code",
   "execution_count": null,
   "metadata": {},
   "outputs": [],
   "source": [
    "\n",
    "dimension = get_json() # all json content\n",
    "hierarchies = dimension['Hierarchies']\n",
    "\n"
   ]
  },
  {
   "cell_type": "code",
   "execution_count": null,
   "metadata": {},
   "outputs": [],
   "source": [
    "\n",
    "def create_subset_from_dict(dimension_name: str, hierarchy_name:str, subset_dict: dict) -> Subset:\n",
    "    \"\"\"Create an subset object from a dict.\n",
    "\n",
    "    Args:\n",
    "        dimension_name (str): Dimension name of subset\n",
    "        hierarchy_name (str): Hierarchy name of subset\n",
    "        subset_dict (dict): Subset dict\n",
    "\n",
    "    Returns:\n",
    "        Subset: A Subset TM1py object.\n",
    "    \"\"\"\n",
    "    subset_object = Subset(\n",
    "        subset_name=subset_dict['Name'],\n",
    "        dimension_name=dimension_name,\n",
    "        hierarchy_name=hierarchy_name,\n",
    "        alias=subset_dict['Alias'],\n",
    "        expression=subset_dict['MDX'],\n",
    "        elements=[element for element in subset_dict['Elemets']]\n",
    "        )\n",
    "    \n",
    "    return subset_object\n",
    "    "
   ]
  },
  {
   "cell_type": "markdown",
   "metadata": {},
   "source": [
    "# JSON Docummentation"
   ]
  },
  {
   "cell_type": "code",
   "execution_count": 14,
   "metadata": {},
   "outputs": [
    {
     "name": "stdout",
     "output_type": "stream",
     "text": [
      "== Generating schemas ==\n",
      "== Generated schemas in 0:00:00.037521 ==\n"
     ]
    }
   ],
   "source": [
    "from json_schema_for_humans.generate import generate_from_filename, generate_from_file_object\n",
    "from json_schema_for_humans.generation_configuration import GenerationConfiguration\n",
    "\n",
    "config = GenerationConfiguration(expand_buttons=False, copy_css=False, copy_js=False, template_name='md', footer_show_time=False)\n",
    "\n",
    "source_path = r'C:\\Users\\joao.caparroz\\Desktop\\codes\\tm1-constructor\\tm1-constructor\\config'\n",
    "result_path = set_current_directory() + r'\\..\\..\\docs\\schemas.md'\n",
    "\n",
    "generate_from_filename(source_path, result_path, config=config)"
   ]
  }
 ],
 "metadata": {
  "kernelspec": {
   "display_name": ".venv",
   "language": "python",
   "name": "python3"
  },
  "language_info": {
   "codemirror_mode": {
    "name": "ipython",
    "version": 3
   },
   "file_extension": ".py",
   "mimetype": "text/x-python",
   "name": "python",
   "nbconvert_exporter": "python",
   "pygments_lexer": "ipython3",
   "version": "3.12.2"
  }
 },
 "nbformat": 4,
 "nbformat_minor": 2
}
