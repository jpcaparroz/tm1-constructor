{
 "cells": [
  {
   "cell_type": "markdown",
   "metadata": {},
   "source": [
    "# 1- Imports"
   ]
  },
  {
   "cell_type": "code",
   "execution_count": 8,
   "metadata": {},
   "outputs": [],
   "source": [
    "import json\n",
    "\n",
    "from TM1py import TM1Service, Cube, Dimension, Hierarchy, Element, ElementAttribute\n",
    "from utils import getConnection,  set_current_directory"
   ]
  },
  {
   "cell_type": "markdown",
   "metadata": {},
   "source": [
    "# 2- Tests"
   ]
  },
  {
   "cell_type": "code",
   "execution_count": null,
   "metadata": {},
   "outputs": [],
   "source": [
    "\n",
    "hierarchy_object = Hierarchy(\n",
    "    name='01_Metric',\n",
    "    dimension_name='01_Metric',\n",
    "    elements=[\n",
    "        Element(\n",
    "            name='value',\n",
    "            element_type='NUMERIC'\n",
    "        ),\n",
    "        Element(\n",
    "            name='total',\n",
    "            element_type='CONSOLIDATED'\n",
    "        )\n",
    "    ],\n",
    "    edges={\n",
    "        ('total', 'value'): 1\n",
    "    },\n",
    "    element_attributes=[\n",
    "        ElementAttribute(\n",
    "            name='Caption',\n",
    "            attribute_type='ALIAS'\n",
    "        )\n",
    "        \n",
    "    ]\n",
    ")\n",
    "\n",
    "dimension_object = Dimension(\n",
    "    name='01_Metric',\n",
    "    hierarchies=[\n",
    "        hierarchy_object\n",
    "    ]\n",
    ")\n",
    "hierarchy_object.body\n",
    "\n"
   ]
  },
  {
   "cell_type": "code",
   "execution_count": null,
   "metadata": {},
   "outputs": [],
   "source": [
    "\n",
    "PATH = set_current_directory() + r'\\..\\tm1_objects\\dimension\\json\\01_Metric.json'\n",
    "\n",
    "with open(PATH) as op:\n",
    "    object = json.load(op)\n",
    "\n",
    "\n",
    "dimension_object = Dimension.from_dict(object)"
   ]
  },
  {
   "cell_type": "code",
   "execution_count": 10,
   "metadata": {},
   "outputs": [
    {
     "data": {
      "text/plain": [
       "'{\"Name\": \"Cube_Test\", \"Dimensions@odata.bind\": [\"Dimensions(\\'05_Version\\')\", \"Dimensions(\\'01_Cube_Test\\')\"]}'"
      ]
     },
     "execution_count": 10,
     "metadata": {},
     "output_type": "execute_result"
    }
   ],
   "source": [
    "cube_object = Cube(\n",
    "    name=\"Cube_Test\",\n",
    "    dimensions=[\n",
    "        '05_Version',\n",
    "        '01_Cube_Test'\n",
    "    ],\n",
    "    rules='#Test'\n",
    ")\n",
    "\n",
    "cube_object."
   ]
  },
  {
   "cell_type": "code",
   "execution_count": null,
   "metadata": {},
   "outputs": [],
   "source": [
    "with TM1Service(**getConnection()) as tm1:\n",
    "    tm1.dimensions.update_or_create(dimension_object)"
   ]
  }
 ],
 "metadata": {
  "kernelspec": {
   "display_name": ".venv",
   "language": "python",
   "name": "python3"
  },
  "language_info": {
   "codemirror_mode": {
    "name": "ipython",
    "version": 3
   },
   "file_extension": ".py",
   "mimetype": "text/x-python",
   "name": "python",
   "nbconvert_exporter": "python",
   "pygments_lexer": "ipython3",
   "version": "3.12.3"
  }
 },
 "nbformat": 4,
 "nbformat_minor": 2
}
