{
 "cells": [
  {
   "cell_type": "code",
   "execution_count": 1,
   "metadata": {},
   "outputs": [
    {
     "data": {
      "text/plain": [
       "{'address': 'pa-inov.netpartners.com.br',\n",
       " 'port': 15023,\n",
       " 'namespace': 'AzureAD',\n",
       " 'verify': False,\n",
       " 'user': 'srv.dev.corp@netpartners.com.br',\n",
       " 'password': 'Mus57528',\n",
       " 'ssl': True}"
      ]
     },
     "execution_count": 1,
     "metadata": {},
     "output_type": "execute_result"
    }
   ],
   "source": [
    "from TM1py import TM1Service, Hierarchy\n",
    "\n",
    "from utils import getConnection\n",
    "\n",
    "# hierarchy_object = Hierarchy()\n",
    "\n",
    "getConnection()\n"
   ]
  }
 ],
 "metadata": {
  "kernelspec": {
   "display_name": ".venv",
   "language": "python",
   "name": "python3"
  },
  "language_info": {
   "codemirror_mode": {
    "name": "ipython",
    "version": 3
   },
   "file_extension": ".py",
   "mimetype": "text/x-python",
   "name": "python",
   "nbconvert_exporter": "python",
   "pygments_lexer": "ipython3",
   "version": "3.12.3"
  }
 },
 "nbformat": 4,
 "nbformat_minor": 2
}
