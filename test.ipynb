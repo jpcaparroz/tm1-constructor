{
 "cells": [
  {
   "cell_type": "code",
   "execution_count": 1,
   "metadata": {},
   "outputs": [],
   "source": [
    "import json\n",
    "from TM1py import TM1Service, Cube, Dimension, Hierarchy, Subset, Element, ElementAttribute\n",
    "\n",
    "from TM1Constructor.Utils.Utils import getConnection, set_current_directory\n",
    "\n",
    "PATH = set_current_directory() + r'\\..\\Examples\\dimension\\Default.json'\n",
    "\n",
    "def get_json(parameter: str = None):\n",
    "    with open(PATH) as op:\n",
    "        object = json.load(op)\n",
    "    \n",
    "    return object.get(parameter) if parameter else object"
   ]
  },
  {
   "cell_type": "code",
   "execution_count": null,
   "metadata": {},
   "outputs": [],
   "source": [
    "from TM1py.Objects import Hierarchy\n",
    "from TM1Constructor.Constructor import HierarchyConstructor\n",
    "\n",
    "constructor = HierarchyConstructor()\n",
    "\n",
    "re = constructor.create_from_list('dim', get_json('Hierarchies'))\n",
    "\n",
    "print(re[0].edges)\n",
    "print(re)"
   ]
  },
  {
   "cell_type": "code",
   "execution_count": 7,
   "metadata": {},
   "outputs": [
    {
     "ename": "TypeError",
     "evalue": "TM1Constructor.Model.EdgeModel.EdgeModel() argument after ** must be a mapping, not str",
     "output_type": "error",
     "traceback": [
      "\u001b[1;31m---------------------------------------------------------------------------\u001b[0m",
      "\u001b[1;31mTypeError\u001b[0m                                 Traceback (most recent call last)",
      "Cell \u001b[1;32mIn[7], line 9\u001b[0m\n\u001b[0;32m      6\u001b[0m j \u001b[38;5;241m=\u001b[39m get_json(\u001b[38;5;124m'\u001b[39m\u001b[38;5;124mHierarchies\u001b[39m\u001b[38;5;124m'\u001b[39m)[\u001b[38;5;241m0\u001b[39m][\u001b[38;5;124m'\u001b[39m\u001b[38;5;124mEdges\u001b[39m\u001b[38;5;124m'\u001b[39m][\u001b[38;5;241m0\u001b[39m]\n\u001b[0;32m      8\u001b[0m edge \u001b[38;5;241m=\u001b[39m EdgeConstructor()\n\u001b[1;32m----> 9\u001b[0m \u001b[43medge\u001b[49m\u001b[38;5;241;43m.\u001b[39;49m\u001b[43mcreate_from_list\u001b[49m\u001b[43m(\u001b[49m\u001b[43mj\u001b[49m\u001b[43m)\u001b[49m\n",
      "File \u001b[1;32mc:\\Users\\joao.caparroz\\Desktop\\codes\\tm1-constructor\\TM1Constructor\\Constructor\\EdgeConstructor.py:16\u001b[0m, in \u001b[0;36mEdgeConstructor.create_from_list\u001b[1;34m(self, edges)\u001b[0m\n\u001b[0;32m     14\u001b[0m \u001b[38;5;28;01mfor\u001b[39;00m edge \u001b[38;5;129;01min\u001b[39;00m edges:\n\u001b[0;32m     15\u001b[0m     \u001b[38;5;28;01mif\u001b[39;00m \u001b[38;5;129;01mnot\u001b[39;00m \u001b[38;5;28misinstance\u001b[39m(edge, EdgeModel):\n\u001b[1;32m---> 16\u001b[0m         treated_edges\u001b[38;5;241m.\u001b[39mappend(EdgeModel(\u001b[38;5;241m*\u001b[39m\u001b[38;5;241m*\u001b[39medge))\n\u001b[0;32m     18\u001b[0m edge_objects \u001b[38;5;241m=\u001b[39m CaseAndSpaceInsensitiveTuplesDict(\n\u001b[0;32m     19\u001b[0m     {\n\u001b[0;32m     20\u001b[0m         (edge\u001b[38;5;241m.\u001b[39mParentName, edge\u001b[38;5;241m.\u001b[39mComponentName): edge\u001b[38;5;241m.\u001b[39mWeight\n\u001b[0;32m     21\u001b[0m         \u001b[38;5;28;01mfor\u001b[39;00m edge \u001b[38;5;129;01min\u001b[39;00m treated_edges\n\u001b[0;32m     22\u001b[0m     }\n\u001b[0;32m     23\u001b[0m )\n\u001b[0;32m     25\u001b[0m \u001b[38;5;28;01mreturn\u001b[39;00m edge_objects\n",
      "\u001b[1;31mTypeError\u001b[0m: TM1Constructor.Model.EdgeModel.EdgeModel() argument after ** must be a mapping, not str"
     ]
    }
   ],
   "source": [
    "from TM1Constructor.Model.EdgeModel import EdgeModel\n",
    "from TM1Constructor.Constructor.EdgeConstructor import EdgeConstructor\n",
    "\n",
    "\n",
    "\n",
    "j = get_json('Hierarchies')[0]['Edges'][0]\n",
    "\n",
    "edge = EdgeConstructor()\n",
    "edge.create_from_list(j)"
   ]
  }
 ],
 "metadata": {
  "kernelspec": {
   "display_name": ".venv",
   "language": "python",
   "name": "python3"
  },
  "language_info": {
   "codemirror_mode": {
    "name": "ipython",
    "version": 3
   },
   "file_extension": ".py",
   "mimetype": "text/x-python",
   "name": "python",
   "nbconvert_exporter": "python",
   "pygments_lexer": "ipython3",
   "version": "3.12.2"
  }
 },
 "nbformat": 4,
 "nbformat_minor": 2
}
