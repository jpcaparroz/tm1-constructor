{
 "cells": [
  {
   "cell_type": "code",
   "execution_count": 2,
   "metadata": {},
   "outputs": [],
   "source": [
    "import json\n",
    "from TM1py import TM1Service, Cube, Dimension, Hierarchy, Subset, Element, ElementAttribute\n",
    "\n",
    "from TM1Constructor.Utils.Utils import getConnection, set_current_directory\n",
    "\n",
    "PATH = set_current_directory() + r'\\..\\Examples\\dimension\\Default.json'\n",
    "\n",
    "def get_json(parameter: str = None):\n",
    "    with open(PATH) as op:\n",
    "        object = json.load(op)\n",
    "    \n",
    "    return object.get(parameter) if parameter else object"
   ]
  },
  {
   "cell_type": "code",
   "execution_count": 4,
   "metadata": {},
   "outputs": [],
   "source": [
    "from TM1py.Objects import Hierarchy\n",
    "from TM1Constructor.Constructor import HierarchyConstructor\n",
    "\n",
    "constructor = HierarchyConstructor()\n",
    "\n",
    "re = constructor.create('dim', get_json('Hierarchies')[0])\n",
    "\n"
   ]
  },
  {
   "cell_type": "code",
   "execution_count": null,
   "metadata": {},
   "outputs": [],
   "source": [
    "re.subsets"
   ]
  }
 ],
 "metadata": {
  "kernelspec": {
   "display_name": ".venv",
   "language": "python",
   "name": "python3"
  },
  "language_info": {
   "codemirror_mode": {
    "name": "ipython",
    "version": 3
   },
   "file_extension": ".py",
   "mimetype": "text/x-python",
   "name": "python",
   "nbconvert_exporter": "python",
   "pygments_lexer": "ipython3",
   "version": "3.12.2"
  }
 },
 "nbformat": 4,
 "nbformat_minor": 2
}
