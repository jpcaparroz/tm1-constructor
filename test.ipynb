{
 "cells": [
  {
   "cell_type": "code",
   "execution_count": null,
   "metadata": {},
   "outputs": [],
   "source": [
    "from TM1Constructor.Constructor import ObjectConstructor\n",
    "\n",
    "constructor = ObjectConstructor()"
   ]
  },
  {
   "cell_type": "code",
   "execution_count": null,
   "metadata": {},
   "outputs": [],
   "source": [
    "from TM1Constructor.Model import ElementModel\n",
    "\n",
    "el = [\n",
    "    {\"Name\": \"TESTE\", \"Type\": 1},\n",
    "    {\"Name\": \"TESTE\", \"Type\": 2},\n",
    "    {\"Name\": \"TESTE\", \"Type\": 3}\n",
    "]\n",
    "\n",
    "re = constructor.element.create_from_list(el)\n",
    "\n",
    "print(re)"
   ]
  },
  {
   "cell_type": "code",
   "execution_count": null,
   "metadata": {},
   "outputs": [],
   "source": [
    "from TM1py import Subset\n",
    "\n",
    "from TM1Constructor.Constructor import ObjectConstructor\n",
    "\n",
    "subset_model = [\n",
    "    {\n",
    "    \"Name\": \"TestSubset\",\n",
    "    \"MDX\": \"SELECT {TM1SUBSETALL([Dimension])} ON ROWS FROM [Cube]\",\n",
    "    \"Elements\": None,\n",
    "    \"Alias\": None,\n",
    "    \"Default\" : False\n",
    "    },\n",
    "    {\n",
    "    \"Name\": \"TestSubset\",\n",
    "    \"MDX\": \"SELECT {TM1SUBSETALL([Dimension])} ON ROWS FROM [Cube]\",\n",
    "    \"Elements\": None,\n",
    "    \"Alias\": None,\n",
    "    \"Default\" : False\n",
    "    }\n",
    "]\n",
    "\n",
    "constructor = ObjectConstructor()\n",
    "\n",
    "re = constructor.subset.create_from_list('tesst', 'test', subset_model)\n",
    "\n",
    "re"
   ]
  }
 ],
 "metadata": {
  "kernelspec": {
   "display_name": ".venv",
   "language": "python",
   "name": "python3"
  },
  "language_info": {
   "codemirror_mode": {
    "name": "ipython",
    "version": 3
   },
   "file_extension": ".py",
   "mimetype": "text/x-python",
   "name": "python",
   "nbconvert_exporter": "python",
   "pygments_lexer": "ipython3",
   "version": "3.12.2"
  }
 },
 "nbformat": 4,
 "nbformat_minor": 2
}
