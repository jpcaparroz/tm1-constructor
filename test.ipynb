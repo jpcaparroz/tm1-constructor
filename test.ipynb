{
 "cells": [
  {
   "cell_type": "code",
   "execution_count": 3,
   "metadata": {},
   "outputs": [],
   "source": [
    "import json\n",
    "from TM1py import TM1Service, Cube, Dimension, Hierarchy, Subset, Element, ElementAttribute\n",
    "\n",
    "from TM1Constructor.Utils.Utils import getConnection, set_current_directory\n",
    "\n",
    "PATH = set_current_directory() + r'\\..\\Examples\\dimension\\Default.json'\n",
    "\n",
    "def get_json(parameter: str = None):\n",
    "    with open(PATH) as op:\n",
    "        object = json.load(op)\n",
    "    \n",
    "    return object.get(parameter) if parameter else object"
   ]
  },
  {
   "cell_type": "code",
   "execution_count": 4,
   "metadata": {},
   "outputs": [
    {
     "name": "stdout",
     "output_type": "stream",
     "text": [
      "[Hierarchy:{\"Name\": \"01_Metric\", \"Elements\": [{\"Name\": \"value\", \"Type\": \"Numeric\"}, {\"Name\": \"total\", \"Type\": \"Consolidated\"}], \"Edges\": [{\"ParentName\": \"total\", \"ComponentName\": \"value\", \"Weight\": 1}]}, Hierarchy:{\"Name\": \"01_Metric1\", \"Elements\": [{\"Name\": \"value\", \"Type\": \"Numeric\"}, {\"Name\": \"total\", \"Type\": \"Consolidated\"}], \"Edges\": [{\"ParentName\": \"total\", \"ComponentName\": \"value\", \"Weight\": 1}]}]\n"
     ]
    }
   ],
   "source": [
    "from TM1py.Objects import Hierarchy\n",
    "from TM1Constructor.Constructor import HierarchyConstructor\n",
    "\n",
    "constructor = HierarchyConstructor()\n",
    "\n",
    "re = constructor.create_from_list('dim', get_json('Hierarchies'))\n",
    "\n",
    "print(re)"
   ]
  },
  {
   "cell_type": "code",
   "execution_count": null,
   "metadata": {},
   "outputs": [],
   "source": [
    "from TM1Constructor.Model.EdgeModel import EdgeModel\n",
    "from TM1Constructor.Constructor.EdgeConstructor import EdgeConstructor\n",
    "\n",
    "\n",
    "\n",
    "j = get_json('Hierarchies')[0]['Edges']\n",
    "print(j)\n",
    "edge = EdgeConstructor()\n",
    "re = edge.create_from_list(j)\n",
    "re"
   ]
  },
  {
   "cell_type": "code",
   "execution_count": null,
   "metadata": {},
   "outputs": [],
   "source": [
    "test = {\n",
    "    (1,2): 3,\n",
    "    (2,2): 4\n",
    "}\n",
    "\n",
    "test.update({(4,4): 3})\n",
    "\n",
    "test"
   ]
  },
  {
   "cell_type": "code",
   "execution_count": 2,
   "metadata": {},
   "outputs": [
    {
     "data": {
      "text/plain": [
       "{('total', 'value'): 1}"
      ]
     },
     "execution_count": 2,
     "metadata": {},
     "output_type": "execute_result"
    }
   ],
   "source": [
    "test = [\n",
    "    {\n",
    "    \"ParentName\": \"total\",\n",
    "    \"ComponentName\": \"value\",\n",
    "    \"Weight\": 1\n",
    "    }\n",
    "]\n",
    "\n",
    "from TM1Constructor.Constructor.EdgeConstructor import EdgeConstructor\n",
    "\n",
    "cs = EdgeConstructor()\n",
    "\n",
    "cs.create_from_list(test)\n"
   ]
  },
  {
   "cell_type": "code",
   "execution_count": null,
   "metadata": {},
   "outputs": [],
   "source": [
    "from TM1py import Dimension\n",
    "\n",
    "n = Dimension()"
   ]
  }
 ],
 "metadata": {
  "kernelspec": {
   "display_name": ".venv",
   "language": "python",
   "name": "python3"
  },
  "language_info": {
   "codemirror_mode": {
    "name": "ipython",
    "version": 3
   },
   "file_extension": ".py",
   "mimetype": "text/x-python",
   "name": "python",
   "nbconvert_exporter": "python",
   "pygments_lexer": "ipython3",
   "version": "3.12.2"
  }
 },
 "nbformat": 4,
 "nbformat_minor": 2
}
