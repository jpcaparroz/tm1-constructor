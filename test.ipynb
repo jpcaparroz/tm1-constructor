{
 "cells": [
  {
   "cell_type": "code",
   "execution_count": null,
   "metadata": {},
   "outputs": [],
   "source": [
    "from TM1Constructor.Constructor import ObjectConstructor\n",
    "\n",
    "constructor = ObjectConstructor()\n",
    "\n",
    "constructor.subset.create_from_dict()"
   ]
  },
  {
   "cell_type": "code",
   "execution_count": null,
   "metadata": {},
   "outputs": [],
   "source": [
    "from TM1Constructor.Model import ElementModel\n",
    "\n",
    "el = {\n",
    "    \"Name\": \"TESTE\",\n",
    "    \"Type\": 1\n",
    "}\n",
    "\n",
    "new = ElementModel(**el)\n"
   ]
  },
  {
   "cell_type": "code",
   "execution_count": 19,
   "metadata": {},
   "outputs": [
    {
     "ename": "TypeError",
     "evalue": "SubsetConstructor.create_from_dict() missing 1 required positional argument: 'subset'",
     "output_type": "error",
     "traceback": [
      "\u001b[1;31m---------------------------------------------------------------------------\u001b[0m",
      "\u001b[1;31mTypeError\u001b[0m                                 Traceback (most recent call last)",
      "Cell \u001b[1;32mIn[19], line 15\u001b[0m\n\u001b[0;32m      5\u001b[0m subset_model \u001b[38;5;241m=\u001b[39m {\n\u001b[0;32m      6\u001b[0m     \u001b[38;5;124m\"\u001b[39m\u001b[38;5;124mName\u001b[39m\u001b[38;5;124m\"\u001b[39m: \u001b[38;5;124m\"\u001b[39m\u001b[38;5;124mTestSubset\u001b[39m\u001b[38;5;124m\"\u001b[39m,\n\u001b[0;32m      7\u001b[0m     \u001b[38;5;124m\"\u001b[39m\u001b[38;5;124mMDX\u001b[39m\u001b[38;5;124m\"\u001b[39m: \u001b[38;5;124m\"\u001b[39m\u001b[38;5;124mSELECT \u001b[39m\u001b[38;5;124m{\u001b[39m\u001b[38;5;124mTM1SUBSETALL([Dimension])} ON ROWS FROM [Cube]\u001b[39m\u001b[38;5;124m\"\u001b[39m,\n\u001b[1;32m   (...)\u001b[0m\n\u001b[0;32m     10\u001b[0m     \u001b[38;5;124m\"\u001b[39m\u001b[38;5;124mDefault\u001b[39m\u001b[38;5;124m\"\u001b[39m : \u001b[38;5;28;01mFalse\u001b[39;00m\n\u001b[0;32m     11\u001b[0m }\n\u001b[0;32m     13\u001b[0m constructor \u001b[38;5;241m=\u001b[39m ObjectConstructor()\n\u001b[1;32m---> 15\u001b[0m re \u001b[38;5;241m=\u001b[39m \u001b[43mconstructor\u001b[49m\u001b[38;5;241;43m.\u001b[39;49m\u001b[43msubset\u001b[49m\u001b[38;5;241;43m.\u001b[39;49m\u001b[43mcreate_from_dict\u001b[49m\u001b[43m(\u001b[49m\u001b[38;5;124;43m'\u001b[39;49m\u001b[38;5;124;43mtest\u001b[39;49m\u001b[38;5;124;43m'\u001b[39;49m\u001b[43m,\u001b[49m\u001b[43m \u001b[49m\u001b[43msubset_model\u001b[49m\u001b[43m)\u001b[49m\n\u001b[0;32m     17\u001b[0m re\n",
      "\u001b[1;31mTypeError\u001b[0m: SubsetConstructor.create_from_dict() missing 1 required positional argument: 'subset'"
     ]
    }
   ],
   "source": [
    "from TM1py import Subset\n",
    "\n",
    "from TM1Constructor.Constructor import ObjectConstructor\n",
    "\n",
    "subset_model = {\n",
    "    \"Name\": \"TestSubset\",\n",
    "    \"MDX\": \"SELECT {TM1SUBSETALL([Dimension])} ON ROWS FROM [Cube]\",\n",
    "    \"Elements\": None,\n",
    "    \"Alias\": None,\n",
    "    \"Default\" : False\n",
    "}\n",
    "\n",
    "constructor = ObjectConstructor()\n",
    "\n",
    "re = constructor.subset.create_from_dict('test', subset_model)\n",
    "\n",
    "re"
   ]
  },
  {
   "cell_type": "code",
   "execution_count": 18,
   "metadata": {},
   "outputs": [
    {
     "data": {
      "text/plain": [
       "list"
      ]
     },
     "execution_count": 18,
     "metadata": {},
     "output_type": "execute_result"
    }
   ],
   "source": [
    "re.elements"
   ]
  },
  {
   "cell_type": "code",
   "execution_count": null,
   "metadata": {},
   "outputs": [],
   "source": [
    "subset_object = Subset(\n",
    "    subset_name=subset_model.Name,\n",
    "    dimension_name='test',\n",
    "    hierarchy_name='test',\n",
    "    alias=subset_model.Alias,\n",
    "    expression=subset_model.MDX,\n",
    "    elements=[element for element in subset_model.Elements] if subset_model.Elements is not None else None\n",
    "    )"
   ]
  },
  {
   "cell_type": "code",
   "execution_count": 9,
   "metadata": {},
   "outputs": [
    {
     "name": "stdout",
     "output_type": "stream",
     "text": [
      "<class 'TM1Constructor.Model.SubsetModel.SubsetModel'>\n"
     ]
    },
    {
     "data": {
      "text/plain": [
       "Subset:{\"Name\": \"TestSubset\", \"Hierarchy@odata.bind\": \"Dimensions('test')/Hierarchies('test')\", \"Expression\": \"SELECT {TM1SUBSETALL([Dimension])} ON ROWS FROM [Cube]\"}"
      ]
     },
     "execution_count": 9,
     "metadata": {},
     "output_type": "execute_result"
    }
   ],
   "source": [
    "from TM1Constructor.Model import SubsetModel\n",
    "\n",
    "from TM1Constructor.Constructor import ObjectConstructor\n",
    "\n",
    "constructor = ObjectConstructor()\n",
    "sub_json = {\n",
    "    \"Name\": \"TestSubset\",\n",
    "    \"MDX\": \"SELECT {TM1SUBSETALL([Dimension])} ON ROWS FROM [Cube]\",\n",
    "    \"Elements\": None,\n",
    "    \"Alias\": None,\n",
    "    \"Default\" : False\n",
    "}\n",
    "#subset_model = SubsetModel(**sub_json)\n",
    "\n",
    "if not isinstance(sub_json, SubsetModel):\n",
    "    sub_json = SubsetModel(**sub_json)\n",
    "    print(type(subset_model))\n",
    "\n",
    "re = constructor.subset.create_from_dict('test', 'test', sub_json)\n",
    "\n",
    "re"
   ]
  }
 ],
 "metadata": {
  "kernelspec": {
   "display_name": ".venv",
   "language": "python",
   "name": "python3"
  },
  "language_info": {
   "codemirror_mode": {
    "name": "ipython",
    "version": 3
   },
   "file_extension": ".py",
   "mimetype": "text/x-python",
   "name": "python",
   "nbconvert_exporter": "python",
   "pygments_lexer": "ipython3",
   "version": "3.12.2"
  }
 },
 "nbformat": 4,
 "nbformat_minor": 2
}
