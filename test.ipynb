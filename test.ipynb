{
 "cells": [
  {
   "cell_type": "code",
   "execution_count": null,
   "metadata": {},
   "outputs": [],
   "source": [
    "from TM1Constructor.Constructor import ObjectConstructor\n",
    "\n",
    "constructor = ObjectConstructor()"
   ]
  },
  {
   "cell_type": "code",
   "execution_count": null,
   "metadata": {},
   "outputs": [],
   "source": [
    "from TM1Constructor.Model import ElementModel\n",
    "\n",
    "el = [\n",
    "    {\"Name\": \"TESTE\", \"Type\": 1},\n",
    "    {\"Name\": \"TESTE\", \"Type\": 2},\n",
    "    {\"Name\": \"TESTE\", \"Type\": 3}\n",
    "]\n",
    "\n",
    "re = constructor.element.create_from_list(el)\n",
    "\n",
    "print(re)"
   ]
  },
  {
   "cell_type": "code",
   "execution_count": 3,
   "metadata": {},
   "outputs": [
    {
     "ename": "TypeError",
     "evalue": "EdgeConstructor.create() missing 1 required positional argument: 'edges'",
     "output_type": "error",
     "traceback": [
      "\u001b[1;31m---------------------------------------------------------------------------\u001b[0m",
      "\u001b[1;31mTypeError\u001b[0m                                 Traceback (most recent call last)",
      "Cell \u001b[1;32mIn[3], line 11\u001b[0m\n\u001b[0;32m      4\u001b[0m edges \u001b[38;5;241m=\u001b[39m [\n\u001b[0;32m      5\u001b[0m     {\u001b[38;5;124m\"\u001b[39m\u001b[38;5;124mParentName\u001b[39m\u001b[38;5;124m\"\u001b[39m: \u001b[38;5;124m\"\u001b[39m\u001b[38;5;124mtotal\u001b[39m\u001b[38;5;124m\"\u001b[39m, \u001b[38;5;124m\"\u001b[39m\u001b[38;5;124mComponentName\u001b[39m\u001b[38;5;124m\"\u001b[39m: \u001b[38;5;124m\"\u001b[39m\u001b[38;5;124mvalue\u001b[39m\u001b[38;5;124m\"\u001b[39m, \u001b[38;5;124m\"\u001b[39m\u001b[38;5;124mWeight\u001b[39m\u001b[38;5;124m\"\u001b[39m: \u001b[38;5;241m1\u001b[39m},\n\u001b[0;32m      6\u001b[0m     {\u001b[38;5;124m\"\u001b[39m\u001b[38;5;124mParentName\u001b[39m\u001b[38;5;124m\"\u001b[39m: \u001b[38;5;124m\"\u001b[39m\u001b[38;5;124mtotal\u001b[39m\u001b[38;5;124m\"\u001b[39m, \u001b[38;5;124m\"\u001b[39m\u001b[38;5;124mComponentName\u001b[39m\u001b[38;5;124m\"\u001b[39m: \u001b[38;5;124m\"\u001b[39m\u001b[38;5;124mvalue1\u001b[39m\u001b[38;5;124m\"\u001b[39m, \u001b[38;5;124m\"\u001b[39m\u001b[38;5;124mWeight\u001b[39m\u001b[38;5;124m\"\u001b[39m: \u001b[38;5;241m1\u001b[39m}\n\u001b[0;32m      7\u001b[0m ]\n\u001b[0;32m      9\u001b[0m const \u001b[38;5;241m=\u001b[39m EdgeConstructor()\n\u001b[1;32m---> 11\u001b[0m re \u001b[38;5;241m=\u001b[39m \u001b[43mconst\u001b[49m\u001b[38;5;241;43m.\u001b[39;49m\u001b[43mcreate\u001b[49m\u001b[43m(\u001b[49m\u001b[43m)\u001b[49m\n\u001b[0;32m     13\u001b[0m re\n",
      "\u001b[1;31mTypeError\u001b[0m: EdgeConstructor.create() missing 1 required positional argument: 'edges'"
     ]
    }
   ],
   "source": [
    "from TM1py.Objects import Hierarchy\n",
    "from TM1Constructor.Constructor import EdgeConstructor\n",
    "\n",
    "edges = [\n",
    "    {\"ParentName\": \"total\", \"ComponentName\": \"value\", \"Weight\": 1},\n",
    "    {\"ParentName\": \"total\", \"ComponentName\": \"value1\", \"Weight\": 1}\n",
    "]\n",
    "\n",
    "const = EdgeConstructor()\n",
    "\n",
    "re = const.create()\n",
    "\n",
    "re"
   ]
  },
  {
   "cell_type": "code",
   "execution_count": null,
   "metadata": {},
   "outputs": [],
   "source": [
    "from TM1py import Subset\n",
    "\n",
    "from TM1Constructor.Constructor import ObjectConstructor\n",
    "\n",
    "subset_model = [\n",
    "    {\n",
    "    \"Name\": \"TestSubset\",\n",
    "    \"MDX\": \"SELECT {TM1SUBSETALL([Dimension])} ON ROWS FROM [Cube]\",\n",
    "    \"Elements\": None,\n",
    "    \"Alias\": None,\n",
    "    \"Default\" : False\n",
    "    },\n",
    "    {\n",
    "    \"Name\": \"TestSubset\",\n",
    "    \"MDX\": \"SELECT {TM1SUBSETALL([Dimension])} ON ROWS FROM [Cube]\",\n",
    "    \"Elements\": None,\n",
    "    \"Alias\": None,\n",
    "    \"Default\" : False\n",
    "    }\n",
    "]\n",
    "\n",
    "constructor = ObjectConstructor()\n",
    "\n",
    "re = constructor.subset.create_from_list('tesst', 'test', subset_model)\n",
    "\n",
    "re"
   ]
  }
 ],
 "metadata": {
  "kernelspec": {
   "display_name": ".venv",
   "language": "python",
   "name": "python3"
  },
  "language_info": {
   "codemirror_mode": {
    "name": "ipython",
    "version": 3
   },
   "file_extension": ".py",
   "mimetype": "text/x-python",
   "name": "python",
   "nbconvert_exporter": "python",
   "pygments_lexer": "ipython3",
   "version": "3.12.2"
  }
 },
 "nbformat": 4,
 "nbformat_minor": 2
}
