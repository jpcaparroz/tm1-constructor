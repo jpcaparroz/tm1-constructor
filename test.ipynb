{
 "cells": [
  {
   "cell_type": "code",
   "execution_count": null,
   "metadata": {},
   "outputs": [],
   "source": [
    "from TM1Constructor.Constructor import ObjectConstructor\n",
    "\n",
    "constructor = ObjectConstructor()\n",
    "\n",
    "constructor.subset.create_from_dict()"
   ]
  },
  {
   "cell_type": "code",
   "execution_count": 2,
   "metadata": {},
   "outputs": [],
   "source": [
    "from TM1Constructor.Model import ElementModel\n",
    "\n",
    "el = {\n",
    "    \"Name\": \"TESTE\",\n",
    "    \"Type\": 1\n",
    "}\n",
    "\n",
    "new = ElementModel(**el)\n"
   ]
  }
 ],
 "metadata": {
  "kernelspec": {
   "display_name": ".venv",
   "language": "python",
   "name": "python3"
  },
  "language_info": {
   "codemirror_mode": {
    "name": "ipython",
    "version": 3
   },
   "file_extension": ".py",
   "mimetype": "text/x-python",
   "name": "python",
   "nbconvert_exporter": "python",
   "pygments_lexer": "ipython3",
   "version": "3.12.2"
  }
 },
 "nbformat": 4,
 "nbformat_minor": 2
}
