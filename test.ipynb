{
 "cells": [
  {
   "cell_type": "code",
   "execution_count": 1,
   "metadata": {},
   "outputs": [],
   "source": [
    "import json\n",
    "from TM1py import TM1Service, Cube, Dimension, Hierarchy, Subset, Element, ElementAttribute\n",
    "\n",
    "from TM1Constructor.Utils.Utils import getConnection, set_current_directory\n",
    "\n",
    "PATH = set_current_directory() + r'\\..\\Examples\\dimension\\Default.json'\n",
    "\n",
    "def get_json(parameter: str = None):\n",
    "    with open(PATH) as op:\n",
    "        object = json.load(op)\n",
    "    \n",
    "    return object.get(parameter) if parameter else object"
   ]
  },
  {
   "cell_type": "code",
   "execution_count": null,
   "metadata": {},
   "outputs": [],
   "source": [
    "from TM1py.Objects import Hierarchy\n",
    "from TM1Constructor.Constructor import HierarchyConstructor\n",
    "\n",
    "constructor = HierarchyConstructor()\n",
    "\n",
    "re = constructor.create_from_list('dim', get_json('Hierarchies'))\n",
    "\n",
    "print(re)"
   ]
  },
  {
   "cell_type": "code",
   "execution_count": 2,
   "metadata": {},
   "outputs": [],
   "source": [
    "from TM1Constructor.Constructor.DimensionConstructor import DimensionConstructor\n",
    "\n",
    "\n",
    "dim = get_json()\n",
    "constructor = DimensionConstructor()\n",
    "\n",
    "result = constructor.create(dim)\n",
    "\n",
    "result\n",
    "with TM1Service(**getConnection()) as tm1:\n",
    "    constructor.create_attributes(tm1, dim)"
   ]
  }
 ],
 "metadata": {
  "kernelspec": {
   "display_name": ".venv",
   "language": "python",
   "name": "python3"
  },
  "language_info": {
   "codemirror_mode": {
    "name": "ipython",
    "version": 3
   },
   "file_extension": ".py",
   "mimetype": "text/x-python",
   "name": "python",
   "nbconvert_exporter": "python",
   "pygments_lexer": "ipython3",
   "version": "3.12.3"
  }
 },
 "nbformat": 4,
 "nbformat_minor": 2
}
