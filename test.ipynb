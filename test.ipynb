{
 "cells": [
  {
   "cell_type": "code",
   "execution_count": null,
   "metadata": {},
   "outputs": [],
   "source": [
    "from TM1Constructor.Constructor import ObjectConstructor\n",
    "\n",
    "constructor = ObjectConstructor()\n",
    "\n",
    "constructor.subset.create_from_dict()"
   ]
  },
  {
   "cell_type": "code",
   "execution_count": null,
   "metadata": {},
   "outputs": [],
   "source": [
    "from TM1Constructor.Model import ElementModel\n",
    "\n",
    "el = {\n",
    "    \"Name\": \"TESTE\",\n",
    "    \"Type\": 1\n",
    "}\n",
    "\n",
    "new = ElementModel(**el)\n"
   ]
  },
  {
   "cell_type": "code",
   "execution_count": 2,
   "metadata": {},
   "outputs": [
    {
     "data": {
      "text/plain": [
       "[Subset:{\"Name\": \"TestSubset\", \"Hierarchy@odata.bind\": \"Dimensions('tesst')/Hierarchies('test')\", \"Expression\": \"SELECT {TM1SUBSETALL([Dimension])} ON ROWS FROM [Cube]\"},\n",
       " Subset:{\"Name\": \"TestSubset\", \"Hierarchy@odata.bind\": \"Dimensions('tesst')/Hierarchies('test')\", \"Expression\": \"SELECT {TM1SUBSETALL([Dimension])} ON ROWS FROM [Cube]\"}]"
      ]
     },
     "execution_count": 2,
     "metadata": {},
     "output_type": "execute_result"
    }
   ],
   "source": [
    "from TM1py import Subset\n",
    "\n",
    "from TM1Constructor.Constructor import ObjectConstructor\n",
    "\n",
    "subset_model = [\n",
    "    {\n",
    "    \"Name\": \"TestSubset\",\n",
    "    \"MDX\": \"SELECT {TM1SUBSETALL([Dimension])} ON ROWS FROM [Cube]\",\n",
    "    \"Elements\": None,\n",
    "    \"Alias\": None,\n",
    "    \"Default\" : False\n",
    "    },\n",
    "    {\n",
    "    \"Name\": \"TestSubset\",\n",
    "    \"MDX\": \"SELECT {TM1SUBSETALL([Dimension])} ON ROWS FROM [Cube]\",\n",
    "    \"Elements\": None,\n",
    "    \"Alias\": None,\n",
    "    \"Default\" : False\n",
    "    }\n",
    "]\n",
    "\n",
    "constructor = ObjectConstructor()\n",
    "\n",
    "re = constructor.subset.create_from_list('tesst', 'test', subset_model)\n",
    "\n",
    "re"
   ]
  },
  {
   "cell_type": "code",
   "execution_count": null,
   "metadata": {},
   "outputs": [],
   "source": [
    "subset_object = Subset(\n",
    "    subset_name=subset_model.Name,\n",
    "    dimension_name='test',\n",
    "    hierarchy_name='test',\n",
    "    alias=subset_model.Alias,\n",
    "    expression=subset_model.MDX,\n",
    "    elements=[element for element in subset_model.Elements] if subset_model.Elements is not None else None\n",
    "    )"
   ]
  }
 ],
 "metadata": {
  "kernelspec": {
   "display_name": ".venv",
   "language": "python",
   "name": "python3"
  },
  "language_info": {
   "codemirror_mode": {
    "name": "ipython",
    "version": 3
   },
   "file_extension": ".py",
   "mimetype": "text/x-python",
   "name": "python",
   "nbconvert_exporter": "python",
   "pygments_lexer": "ipython3",
   "version": "3.12.2"
  }
 },
 "nbformat": 4,
 "nbformat_minor": 2
}
