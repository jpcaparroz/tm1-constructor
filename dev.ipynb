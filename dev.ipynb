{
 "cells": [
  {
   "cell_type": "markdown",
   "metadata": {},
   "source": [
    "# 1- Imports"
   ]
  },
  {
   "cell_type": "code",
   "execution_count": 1,
   "metadata": {},
   "outputs": [
    {
     "ename": "ModuleNotFoundError",
     "evalue": "No module named 'TM1Constructor'",
     "output_type": "error",
     "traceback": [
      "\u001b[1;31m---------------------------------------------------------------------------\u001b[0m",
      "\u001b[1;31mModuleNotFoundError\u001b[0m                       Traceback (most recent call last)",
      "Cell \u001b[1;32mIn[1], line 5\u001b[0m\n\u001b[0;32m      2\u001b[0m \u001b[38;5;28;01mfrom\u001b[39;00m \u001b[38;5;21;01mTM1py\u001b[39;00m \u001b[38;5;28;01mimport\u001b[39;00m TM1Service, Cube, Dimension, Hierarchy, Subset, Element, ElementAttribute\n\u001b[0;32m      4\u001b[0m \u001b[38;5;28;01mfrom\u001b[39;00m \u001b[38;5;21;01mutils\u001b[39;00m \u001b[38;5;28;01mimport\u001b[39;00m getConnection,  set_current_directory\n\u001b[1;32m----> 5\u001b[0m \u001b[38;5;28;01mfrom\u001b[39;00m \u001b[38;5;21;01mTM1Constructor\u001b[39;00m\u001b[38;5;21;01m.\u001b[39;00m\u001b[38;5;21;01mconstructor\u001b[39;00m \u001b[38;5;28;01mimport\u001b[39;00m TM1Constructor\n\u001b[0;32m      7\u001b[0m PATH \u001b[38;5;241m=\u001b[39m set_current_directory() \u001b[38;5;241m+\u001b[39m \u001b[38;5;124mr\u001b[39m\u001b[38;5;124m'\u001b[39m\u001b[38;5;124m\\\u001b[39m\u001b[38;5;124m..\u001b[39m\u001b[38;5;124m\\\u001b[39m\u001b[38;5;124mjson_objects\u001b[39m\u001b[38;5;124m\\\u001b[39m\u001b[38;5;124mdimension\u001b[39m\u001b[38;5;124m\\\u001b[39m\u001b[38;5;124mDefault.json\u001b[39m\u001b[38;5;124m'\u001b[39m\n\u001b[0;32m      9\u001b[0m \u001b[38;5;28;01mdef\u001b[39;00m \u001b[38;5;21mget_json\u001b[39m(parameter: \u001b[38;5;28mstr\u001b[39m \u001b[38;5;241m=\u001b[39m \u001b[38;5;28;01mNone\u001b[39;00m):\n",
      "\u001b[1;31mModuleNotFoundError\u001b[0m: No module named 'TM1Constructor'"
     ]
    }
   ],
   "source": [
    "import json\n",
    "from TM1py import TM1Service, Cube, Dimension, Hierarchy, Subset, Element, ElementAttribute\n",
    "\n",
    "from utils import getConnection,  set_current_directory\n",
    "from TM1Constructor.constructor import TM1Constructor\n",
    "\n",
    "PATH = set_current_directory() + r'\\..\\json_objects\\dimension\\Default.json'\n",
    "\n",
    "def get_json(parameter: str = None):\n",
    "    with open(PATH) as op:\n",
    "        object = json.load(op)\n",
    "    \n",
    "    return object.get(parameter) if parameter else object"
   ]
  },
  {
   "cell_type": "markdown",
   "metadata": {},
   "source": [
    "# 2- Tests"
   ]
  },
  {
   "cell_type": "code",
   "execution_count": null,
   "metadata": {},
   "outputs": [],
   "source": [
    "\n",
    "hierarchy_object = Hierarchy(\n",
    "    name='01_Metric',\n",
    "    dimension_name='01_Metric',\n",
    "    elements=[\n",
    "        Element(\n",
    "            name='value',\n",
    "            element_type='NUMERIC'\n",
    "        ),\n",
    "        Element(\n",
    "            name='total',\n",
    "            element_type='CONSOLIDATED'\n",
    "        )\n",
    "    ],\n",
    "    edges={\n",
    "        ('total', 'value'): 1\n",
    "    },\n",
    "    element_attributes=[\n",
    "        ElementAttribute(\n",
    "            name='Caption',\n",
    "            attribute_type='ALIAS'\n",
    "        )\n",
    "        \n",
    "    ]\n",
    ")\n",
    "\n",
    "dimension_object = Dimension(\n",
    "    name='01_Metric',\n",
    "    hierarchies=[\n",
    "        hierarchy_object\n",
    "    ]\n",
    ")\n",
    "hierarchy_object.body\n",
    "\n"
   ]
  },
  {
   "cell_type": "code",
   "execution_count": null,
   "metadata": {},
   "outputs": [],
   "source": [
    "\n",
    "def create_subset_from_dict(dimension_name: str, hierarchy_name:str, subset_dict: dict) -> Subset:\n",
    "    \"\"\"Create an subset object from a dict.\n",
    "\n",
    "    Args:\n",
    "        dimension_name (str): Dimension name of subset\n",
    "        hierarchy_name (str): Hierarchy name of subset\n",
    "        subset_dict (dict): Subset dict\n",
    "\n",
    "    Returns:\n",
    "        Subset: A Subset TM1py object.\n",
    "    \"\"\"\n",
    "    subset_object = Subset(\n",
    "        subset_name=subset_dict['Name'],\n",
    "        dimension_name=dimension_name,\n",
    "        hierarchy_name=hierarchy_name,\n",
    "        alias=subset_dict['Alias'],\n",
    "        expression=subset_dict['MDX'],\n",
    "        elements=[element for element in subset_dict['Elements']] if subset_dict['Elements'] is not None else None\n",
    "        )\n",
    "    \n",
    "    return subset_object\n",
    "    "
   ]
  },
  {
   "cell_type": "code",
   "execution_count": null,
   "metadata": {},
   "outputs": [],
   "source": [
    "\n",
    "dimension = get_json() # all json content\n",
    "hierarchies = dimension.get('Hierarchies')\n",
    "subsets = [subset['Subsets'][i] for i, subset in enumerate(hierarchies)]\n",
    "\n",
    "# subsets_objects = [create_subset_from_dict(dimension['Name'], hierarchies[0]['Name'], subset) for subset in subsets]\n",
    "\n",
    "create_subset_from_dict(dimension['Name'], hierarchies[0]['Name'], subsets[0])"
   ]
  },
  {
   "cell_type": "code",
   "execution_count": null,
   "metadata": {},
   "outputs": [],
   "source": [
    "print(dimension['Hierarchies'][0]['Subsets'][0]['Elements'] == None)"
   ]
  },
  {
   "cell_type": "markdown",
   "metadata": {},
   "source": [
    "# JSON Docummentation"
   ]
  },
  {
   "cell_type": "code",
   "execution_count": null,
   "metadata": {},
   "outputs": [],
   "source": [
    "from json_schema_for_humans.generate import generate_from_filename, generate_from_file_object\n",
    "from json_schema_for_humans.generation_configuration import GenerationConfiguration\n",
    "\n",
    "config = GenerationConfiguration(expand_buttons=False, copy_css=False, copy_js=False, template_name='md', footer_show_time=False)\n",
    "\n",
    "source_path = r'C:\\Users\\joao.caparroz\\Desktop\\codes\\tm1-constructor\\tm1-constructor\\config'\n",
    "result_path = set_current_directory() + r'\\..\\..\\docs\\schemas.md'\n",
    "\n",
    "generate_from_filename(source_path, result_path, config=config)"
   ]
  }
 ],
 "metadata": {
  "kernelspec": {
   "display_name": ".venv",
   "language": "python",
   "name": "python3"
  },
  "language_info": {
   "codemirror_mode": {
    "name": "ipython",
    "version": 3
   },
   "file_extension": ".py",
   "mimetype": "text/x-python",
   "name": "python",
   "nbconvert_exporter": "python",
   "pygments_lexer": "ipython3",
   "version": "3.12.3"
  }
 },
 "nbformat": 4,
 "nbformat_minor": 2
}
