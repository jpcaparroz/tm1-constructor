{
 "cells": [
  {
   "cell_type": "markdown",
   "metadata": {},
   "source": [
    "# 1- Imports"
   ]
  },
  {
   "cell_type": "code",
   "execution_count": 1,
   "metadata": {},
   "outputs": [],
   "source": [
    "import json\n",
    "from TM1py import TM1Service, Cube, Dimension, Hierarchy, Subset, Element, ElementAttribute\n",
    "\n",
    "from TM1Constructor.utils.utils import getConnection, set_current_directory\n",
    "\n",
    "CUBE_JSON = set_current_directory() + r'\\..\\Examples\\cube\\Default.json'\n",
    "DIMENSION_JSON = set_current_directory() + r'\\..\\Examples\\dimension\\Default.json'\n",
    "PROCESS_JSON = set_current_directory() + r'\\..\\Examples\\process\\Default.json'\n",
    "CHORE_JSON = set_current_directory() + r'\\..\\Examples\\chore\\Default.json'\n",
    "\n",
    "def get_json(path: str, parameter: str = None):\n",
    "    with open(path) as op:\n",
    "        object = json.load(op)\n",
    "    \n",
    "    return object.get(parameter) if parameter else object"
   ]
  },
  {
   "cell_type": "markdown",
   "metadata": {},
   "source": [
    "# All"
   ]
  },
  {
   "cell_type": "code",
   "execution_count": null,
   "metadata": {},
   "outputs": [],
   "source": [
    "from TM1Constructor.constructor.ElementConstructor import ElementConstructor\n",
    "\n",
    "var = get_json('Hierarchies')[0]['Elements']\n",
    "\n",
    "constructor = ElementConstructor()\n",
    "\n",
    "constructor.create_from_list(var)"
   ]
  },
  {
   "cell_type": "code",
   "execution_count": 2,
   "metadata": {},
   "outputs": [],
   "source": [
    "from TM1Constructor.constructor.CubeConstructor import CubeConstructor\n",
    "\n",
    "var = get_json(CUBE_JSON)\n",
    "\n",
    "constructor = CubeConstructor()\n",
    "\n",
    "cube = constructor.create(var)"
   ]
  },
  {
   "cell_type": "markdown",
   "metadata": {},
   "source": [
    "# 2- Tests"
   ]
  },
  {
   "cell_type": "code",
   "execution_count": 15,
   "metadata": {},
   "outputs": [
    {
     "name": "stdout",
     "output_type": "stream",
     "text": [
      "ptValores\n",
      "enValues\n"
     ]
    }
   ],
   "source": [
    "from TM1Constructor.model.CaptionModel import CaptionModel\n",
    "\n",
    "j = get_json(CUBE_JSON, 'Caption')\n",
    "\n",
    "caption = CaptionModel(pt=j['pt'], en=j['en'])\n",
    "\n",
    "\n",
    "for language in caption.__fields__:\n",
    "    value: str = getattr(caption, language)\n",
    "    f\"CubeAttrPutS('{value}', sCubeName, 'Caption', '{language}');\""
   ]
  },
  {
   "cell_type": "code",
   "execution_count": 36,
   "metadata": {},
   "outputs": [
    {
     "name": "stdout",
     "output_type": "stream",
     "text": [
      "CubeAttrPutS('Valores', sCubeName, 'Caption', 'pt');\n",
      "CubeAttrPutS('Values', sCubeName, 'Caption', 'en');\n",
      "CubeAttrPutS('Valui', sCubeName, 'Caption', 'fr');\n"
     ]
    },
    {
     "data": {
      "text/plain": [
       "''"
      ]
     },
     "execution_count": 36,
     "metadata": {},
     "output_type": "execute_result"
    }
   ],
   "source": [
    "from TM1Constructor.model.CaptionModel import CaptionModel\n",
    "\n",
    "j = get_json(CUBE_JSON, 'Caption')\n",
    "\n",
    "caption = CaptionModel(**j)\n",
    "\n",
    "script: str = \"\"\n",
    "for language, value in caption.model_dump().items():\n",
    "    print(f\"CubeAttrPutS('{value}', sCubeName, 'Caption', '{language}');\")\n",
    "    \n",
    "script"
   ]
  }
 ],
 "metadata": {
  "kernelspec": {
   "display_name": ".venv",
   "language": "python",
   "name": "python3"
  },
  "language_info": {
   "codemirror_mode": {
    "name": "ipython",
    "version": 3
   },
   "file_extension": ".py",
   "mimetype": "text/x-python",
   "name": "python",
   "nbconvert_exporter": "python",
   "pygments_lexer": "ipython3",
   "version": "3.12.2"
  }
 },
 "nbformat": 4,
 "nbformat_minor": 2
}
