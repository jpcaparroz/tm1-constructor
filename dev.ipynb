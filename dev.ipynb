{
 "cells": [
  {
   "cell_type": "markdown",
   "metadata": {},
   "source": [
    "# 1- Imports"
   ]
  },
  {
   "cell_type": "code",
   "execution_count": 1,
   "metadata": {},
   "outputs": [],
   "source": [
    "import json\n",
    "from TM1py import TM1Service, Cube, Dimension, Hierarchy, Subset, Element, ElementAttribute\n",
    "\n",
    "from TM1Constructor.Utils.Utils import getConnection, set_current_directory\n",
    "\n",
    "PATH = set_current_directory() + r'\\..\\Examples\\dimension\\Default.json'\n",
    "\n",
    "def get_json(parameter: str = None):\n",
    "    with open(PATH) as op:\n",
    "        object = json.load(op)\n",
    "    \n",
    "    return object.get(parameter) if parameter else object"
   ]
  },
  {
   "cell_type": "markdown",
   "metadata": {},
   "source": [
    "# 2- Tests"
   ]
  },
  {
   "cell_type": "code",
   "execution_count": null,
   "metadata": {},
   "outputs": [],
   "source": [
    "\n",
    "hierarchy_object = Hierarchy(\n",
    "    name='01_Metric',\n",
    "    dimension_name='01_Metric',\n",
    "    elements=[\n",
    "        Element(\n",
    "            name='value',\n",
    "            element_type='NUMERIC'\n",
    "        ),\n",
    "        Element(\n",
    "            name='total',\n",
    "            element_type='CONSOLIDATED'\n",
    "        )\n",
    "    ],\n",
    "    edges={\n",
    "        ('total', 'value'): 1\n",
    "    },\n",
    "    element_attributes=[\n",
    "        ElementAttribute(\n",
    "            name='Caption',\n",
    "            attribute_type='ALIAS'\n",
    "        )\n",
    "        \n",
    "    ]\n",
    ")\n",
    "\n",
    "dimension_object = Dimension(\n",
    "    name='01_Metric',\n",
    "    hierarchies=[\n",
    "        hierarchy_object\n",
    "    ]\n",
    ")\n",
    "hierarchy_object.body\n",
    "\n"
   ]
  },
  {
   "cell_type": "markdown",
   "metadata": {},
   "source": [
    "# 3 - Subset"
   ]
  },
  {
   "cell_type": "code",
   "execution_count": null,
   "metadata": {},
   "outputs": [],
   "source": [
    "\n",
    "def create_subset_from_dict(dimension_name: str, hierarchy_name:str, subset_dict: dict) -> Subset:\n",
    "    \"\"\"Create an subset object from a dict.\n",
    "\n",
    "    Args:\n",
    "        dimension_name (str): Dimension name of subset\n",
    "        hierarchy_name (str): Hierarchy name of subset\n",
    "        subset_dict (dict): Subset dict\n",
    "\n",
    "    Returns:\n",
    "        Subset: A Subset TM1py object.\n",
    "    \"\"\"\n",
    "    subset_object = Subset(\n",
    "        subset_name=subset_dict['Name'],\n",
    "        dimension_name=dimension_name,\n",
    "        hierarchy_name=hierarchy_name,\n",
    "        alias=subset_dict['Alias'],\n",
    "        expression=subset_dict['MDX'],\n",
    "        elements=[element for element in subset_dict['Elements']] if subset_dict['Elements'] is not None else None\n",
    "        )\n",
    "    \n",
    "    return subset_object\n",
    "    "
   ]
  },
  {
   "cell_type": "code",
   "execution_count": null,
   "metadata": {},
   "outputs": [],
   "source": [
    "\n",
    "dimension = get_json() # all json content\n",
    "hierarchies = dimension.get('Hierarchies')\n",
    "subsets = [subset['Subsets'][i] for i, subset in enumerate(hierarchies)]\n",
    "\n",
    "# subsets_objects = [create_subset_from_dict(dimension['Name'], hierarchies[0]['Name'], subset) for subset in subsets]\n",
    "\n",
    "create_subset_from_dict(dimension['Name'], hierarchies[0]['Name'], subsets[0])"
   ]
  },
  {
   "cell_type": "markdown",
   "metadata": {},
   "source": [
    "# 4 - Element"
   ]
  },
  {
   "cell_type": "code",
   "execution_count": null,
   "metadata": {},
   "outputs": [],
   "source": [
    "dimension = get_json() # all json content\n",
    "hierarchies = dimension.get('Hierarchies')\n",
    "subsets = [subset['Subsets'][i] for i, subset in enumerate(hierarchies)]\n",
    "\n",
    "def create_from_dict(self, element_dict: dict) -> Element:\n",
    "    \"\"\"Create an element object from a dict.\n",
    "\n",
    "    Args:\n",
    "        element_dict (dict): Element dict\n",
    "\n",
    "    Returns:\n",
    "        Element: A Element TM1py object.\n",
    "    \"\"\"\n",
    "    element_object = Element(\n",
    "        name=element_dict['Name'],\n",
    "        element_type=element_dict['Type']\n",
    "    )\n",
    "    \n",
    "    return element_object"
   ]
  },
  {
   "cell_type": "code",
   "execution_count": 2,
   "metadata": {},
   "outputs": [],
   "source": [
    "dimension = get_json() # all json content\n",
    "hierarchies = dimension.get('Hierarchies')\n",
    "subsets = [subset['Subsets'][i] for i, subset in enumerate(hierarchies)]\n",
    "\n",
    "element_dict = hierarchies[0]['Elements'][0]\n",
    "el = Element(\n",
    "    name=element_dict['Name'],\n",
    "    element_type=element_dict['Type']\n",
    ")\n"
   ]
  },
  {
   "cell_type": "markdown",
   "metadata": {},
   "source": [
    "# JSON Docummentation"
   ]
  },
  {
   "cell_type": "code",
   "execution_count": null,
   "metadata": {},
   "outputs": [],
   "source": [
    "from json_schema_for_humans.generate import generate_from_filename, generate_from_file_object\n",
    "from json_schema_for_humans.generation_configuration import GenerationConfiguration\n",
    "\n",
    "config = GenerationConfiguration(expand_buttons=False, copy_css=False, copy_js=False, template_name='md', footer_show_time=False)\n",
    "\n",
    "source_path = r'C:\\Users\\joao.caparroz\\Desktop\\codes\\tm1-constructor\\tm1-constructor\\config'\n",
    "result_path = set_current_directory() + r'\\..\\..\\docs\\schemas.md'\n",
    "\n",
    "generate_from_filename(source_path, result_path, config=config)"
   ]
  }
 ],
 "metadata": {
  "kernelspec": {
   "display_name": ".venv",
   "language": "python",
   "name": "python3"
  },
  "language_info": {
   "codemirror_mode": {
    "name": "ipython",
    "version": 3
   },
   "file_extension": ".py",
   "mimetype": "text/x-python",
   "name": "python",
   "nbconvert_exporter": "python",
   "pygments_lexer": "ipython3",
   "version": "3.12.2"
  }
 },
 "nbformat": 4,
 "nbformat_minor": 2
}
